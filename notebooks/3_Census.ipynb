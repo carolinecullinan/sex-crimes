{
 "cells": [
  {
   "cell_type": "markdown",
   "metadata": {},
   "source": [
    "# US SEX CRIMES\n",
    "##### An investigation on household composition types and reported sex crimes in nine US cities\n"
   ]
  },
  {
   "cell_type": "markdown",
   "metadata": {},
   "source": [
    "## 3.0 Census\n",
    "### Selecting relevant census data per census block group in all observed cities"
   ]
  },
  {
   "cell_type": "markdown",
   "metadata": {},
   "source": [
    "#### 2010 ACS 5 Year Estimates Census Data\n",
    "##### - All cities: https://api.census.gov/data/2010/acs/acs5/variables.html\n",
    "\n",
    "#### FIPS Codes\n",
    "##### - Baltimore, Maryland: (24, 04000) https://roadsidethoughts.com/md/baltimore-xx-baltimore-ccity-census.htm\n",
    "##### - Chicago, Illinois: (17, 14000) https://roadsidethoughts.com/il/chicago-xx-cook-census.htm\n",
    "##### - DC:\n",
    "##### - Detroit, Michigan: (26, 22000) https://roadsidethoughts.com/mi/detroit-xx-wayne-census.htm\n",
    "##### - LA, California: (06, 44000) https://roadsidethoughts.com/ca/los-angeles-xx-los-angeles-census.htm\n",
    "##### - Minneapolis, Minnesota: (27, 43000) https://roadsidethoughts.com/mn/minneapolis-xx-hennepin-census.htm\n",
    "##### - Nashville, Tennessee: (47, 52000) https://roadsidethoughts.com/tn/nashville-xx-davidson-census.htm\n",
    "##### - Philadelphia, Pennsylvania: (42, 60000) https://roadsidethoughts.com/pa/philadelphia-xx-philadelphia-census.htm\n",
    "##### - SF, California: (06/67000) https://roadsidethoughts.com/ca/san-francisco-xx-san-francisco-census.htm"
   ]
  },
  {
   "cell_type": "markdown",
   "metadata": {},
   "source": [
    "##### Process:\n",
    "###### 1. Connect to census API and retrieve relevant 2010 data per each city of interest\n",
    "###### 2. Clean census data for each city of interest\n",
    "###### 3. Write clean gdf for each city to a geojson"
   ]
  },
  {
   "cell_type": "code",
   "execution_count": 1,
   "metadata": {},
   "outputs": [],
   "source": [
    "# Call libraries\n",
    "import pandas as pd\n",
    "import geopandas as gpd\n",
    "import matplotlib.pyplot as plt\n",
    "from src.data_processing import collect_data\n",
    "from src.data_processing import clean_columns\n",
    "\n",
    "from datetime import datetime\n",
    "import os"
   ]
  },
  {
   "cell_type": "code",
   "execution_count": 2,
   "metadata": {},
   "outputs": [
    {
     "name": "stdout",
     "output_type": "stream",
     "text": [
      "Directory Changes\n",
      "Current working directory is: C:\\Users\\Carol\\Documents\\CUSP\\US_SexCrime\n"
     ]
    }
   ],
   "source": [
    "# Change working directory to a specified directory\n",
    "os.chdir('../')\n",
    "print(\"Directory Changes\")\n",
    "\n",
    "#Get current working directory\n",
    "cwd = os.getcwd()\n",
    "print(\"Current working directory is:\", cwd)"
   ]
  },
  {
   "cell_type": "markdown",
   "metadata": {},
   "source": [
    "### 3.1 Collect Data"
   ]
  },
  {
   "cell_type": "code",
   "execution_count": null,
   "metadata": {},
   "outputs": [],
   "source": [
    "# Connect to census API, retrieve data for variables and year of interest, and create gdf for all cities"
   ]
  },
  {
   "cell_type": "code",
   "execution_count": null,
   "metadata": {},
   "outputs": [],
   "source": [
    "# Baltimore\n",
    "baltimore = collect_data(year = 2013, city_code = [,])"
   ]
  },
  {
   "cell_type": "code",
   "execution_count": 3,
   "metadata": {},
   "outputs": [
    {
     "name": "stderr",
     "output_type": "stream",
     "text": [
      "ERROR:shapely.geos:TopologyException: Input geom 1 is invalid: Ring Self-intersection at or near point -87.559602999999996 41.702776999999998 at -87.559602999999996 41.702776999999998\n"
     ]
    }
   ],
   "source": [
    "# Chicago\n",
    "chicago = collect_data(year = 2013, city_code = [17, 14000])"
   ]
  },
  {
   "cell_type": "code",
   "execution_count": null,
   "metadata": {},
   "outputs": [],
   "source": [
    "# DC\n",
    "dc = collect_data(year = 2013, city_code = [,])"
   ]
  },
  {
   "cell_type": "code",
   "execution_count": null,
   "metadata": {},
   "outputs": [],
   "source": [
    "# Detroit\n",
    "detroit = collect_data(year = 2013, city_code = [,])"
   ]
  },
  {
   "cell_type": "code",
   "execution_count": null,
   "metadata": {},
   "outputs": [],
   "source": [
    "# LA\n",
    "la = collect_data(year = 2013, city_code = [,])"
   ]
  },
  {
   "cell_type": "code",
   "execution_count": null,
   "metadata": {},
   "outputs": [],
   "source": [
    "# Minneapolis\n",
    "minneapolis = collect_data(year = 2013, city_code = [,])"
   ]
  },
  {
   "cell_type": "code",
   "execution_count": null,
   "metadata": {},
   "outputs": [],
   "source": [
    "# Nashville\n",
    "nashville = collect_data(year = 2013, city_code = [,])"
   ]
  },
  {
   "cell_type": "code",
   "execution_count": null,
   "metadata": {},
   "outputs": [],
   "source": [
    "# Philadelphia\n",
    "philadelphia = collect_data(year = 2013, city_code = [,])"
   ]
  },
  {
   "cell_type": "code",
   "execution_count": null,
   "metadata": {},
   "outputs": [],
   "source": [
    "# SF\n",
    "sf = collect_data(year = 2013, city_code = [int('06'), 67000])"
   ]
  },
  {
   "cell_type": "markdown",
   "metadata": {},
   "source": [
    "### 3.2 Clean Data"
   ]
  },
  {
   "cell_type": "code",
   "execution_count": null,
   "metadata": {},
   "outputs": [],
   "source": [
    "# Clean census data for each city of interest\n",
    "\n",
    "# baltimore = clean_columns(gdf = baltimore)\n",
    "chicago = clean_columns(gdf = chicago)\n",
    "# dc = clean_columns(gdf = dc)\n",
    "# detroit = clean_columns(gdf = detroit)\n",
    "# la = clean_columns(gdf = la)\n",
    "# minneapolis = clean_columns(gdf = minneapolis)\n",
    "# nashville = clean_columns(gdf = nashville)\n",
    "# philadelphia = clean_columns(gdf = philadelphia)\n",
    "# sf = clean_columns(gdf = sf)"
   ]
  },
  {
   "cell_type": "markdown",
   "metadata": {},
   "source": [
    "### 3.3 Write Data"
   ]
  },
  {
   "cell_type": "code",
   "execution_count": null,
   "metadata": {},
   "outputs": [],
   "source": [
    "# Write clean gdf for each city to geojson\n",
    "\n",
    "# Baltimore\n",
    "baltimore.to_file('data/interim/census/Baltimore/baltimore_census.geojson', driver = 'GeoJSON')\n",
    "\n",
    "# Chicago\n",
    "chicago.to_file('data/interim/census/Chicago/chicago_census.geojson', driver = 'GeoJSON')\n",
    "\n",
    "# DC\n",
    "dc.to_file('data/interim/census/DC/dc_census.geojson', driver = 'GeoJSON')\n",
    "\n",
    "# Detroit\n",
    "detroit.to_file('data/interim/census/Detroit/detroit_census.geojson', driver = 'GeoJSON')\n",
    "\n",
    "# LA\n",
    "la.to_file('data/interim/census/LA/la_census.geojson', driver = 'GeoJSON')\n",
    "\n",
    "# Minneapolis\n",
    "minneapolis.to_file('data/interim/census/Minneapolis/minneapolis_census.geojson', driver = 'GeoJSON')\n",
    "\n",
    "# Nashville\n",
    "nashville.to_file('data/interim/census/Nashville/nashville_census.geojson', driver = 'GeoJSON')\n",
    "\n",
    "# Philadelphia\n",
    "philadelphia.to_file('data/interim/census/Philadelphia/philadelphia_census.geojson', driver = 'GeoJSON')\n",
    "\n",
    "# SF\n",
    "sf.to_file('data/interim/census/SF/sf_census.geojson', driver = 'GeoJSON')"
   ]
  }
 ],
 "metadata": {
  "kernelspec": {
   "display_name": "Python 3",
   "language": "python",
   "name": "python3"
  },
  "language_info": {
   "codemirror_mode": {
    "name": "ipython",
    "version": 3
   },
   "file_extension": ".py",
   "mimetype": "text/x-python",
   "name": "python",
   "nbconvert_exporter": "python",
   "pygments_lexer": "ipython3",
   "version": "3.7.3"
  }
 },
 "nbformat": 4,
 "nbformat_minor": 4
}
